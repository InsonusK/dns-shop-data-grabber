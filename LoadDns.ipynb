{
 "cells": [
  {
   "cell_type": "code",
   "execution_count": 31,
   "metadata": {
    "collapsed": true,
    "pycharm": {
     "name": "#%% simple test\n"
    }
   },
   "outputs": [
    {
     "name": "stdout",
     "output_type": "stream",
     "text": [
      "18\n",
      "Видеокарта INNO3D GeForce GT 710 Silent LP [N710-1SDV-D3BX] | 2 799 ₽\n",
      "Видеокарта MSI GeForce GT 710 Silent LP [GT 710 1GD3H LP] | 2 850 ₽\n",
      "Видеокарта KFA2 GeForce GT 710 PASSIVE [71GGF4DC00WK] | 2 999 ₽\n",
      "Видеокарта ASUS GeForce GT 710 Silent LP [GT710-SL-1GD5] | 3 050 ₽\n",
      "Видеокарта GIGABYTE GeForce 210 [GV-N210D3-1GI] | 3 050 ₽\n",
      "Видеокарта ASUS GeForce GT 710 Silent LP [GT710-SL-1GD5-BRK] | 3 099 ₽\n",
      "Видеокарта INNO3D GeForce GT 710 Silent LP [N710-1SDV-E3BX] | 3 099 ₽\n",
      "Видеокарта GIGABYTE GeForce GT 710 [GV-N710D5-1GL Rev2.0] | 3 250 ₽\n",
      "Видеокарта KFA2 GeForce GT 710 71GPF4HI00GK | 3 299 ₽\n",
      "Видеокарта MSI GeForce GT 710 Silent LP [GT 710 2GD3H LP] | 3 299 ₽\n",
      "Видеокарта ZOTAC GeForce GT 710 Zone Edition [ZT-71301-20L] | 3 299 ₽\n",
      "Видеокарта Palit GeForce GT 710 Silent LP [NEAT7100HD46-2080H] | 3 399 ₽\n",
      "Видеокарта ASUS GeForce GT 710 Silent LP [GT710-SL-2GD5] | 3 499 ₽\n",
      "Видеокарта MSI GeForce GT 710 Silent LP (BULK) [GT 710 1GD3H LP] | 3 499 ₽\n",
      "Видеокарта ZOTAC GeForce GT 710 Zone Edition [ZT-71302-20L] | 3 499 ₽\n",
      "Видеокарта ASUS GeForce GT 710 Silent LP [GT710-SL-2GD5-BRK] | 3 699 ₽\n",
      "Видеокарта GIGABYTE GeForce GT 710 LP [GV-N710D5-2GL] | 3 699 ₽\n",
      "Видеокарта GIGABYTE GeForce GT 710 Silent LP [GV-N710D5SL-2GL] | 3 699 ₽\n"
     ]
    }
   ],
   "source": [
    "from selenium import webdriver\n",
    "\n",
    "driver = webdriver.Chrome(executable_path='/home/insonusk/Documents/chromedriver_linux64/chromedriver')\n",
    "driver.get(\"https://www.dns-shop.ru/catalog/17a89aab16404e77/videokarty/?p=1\")\n",
    "\n",
    "results = driver.find_elements_by_xpath('//div[@class=\"catalog-item\"]')\n",
    "\n",
    "print(len(results))\n",
    "\n",
    "for result in results:\n",
    "    name_block = result.find_element_by_class_name(\"product-info__title\")\n",
    "    sub_name_block = name_block.find_element_by_class_name(\"product-info__title-link\")\n",
    "\n",
    "    price = result.find_element_by_class_name(\"product-min-price__current\")\n",
    "    print(f'{sub_name_block.text} | {price.text}')\n",
    "driver.quit()\n"
   ]
  },
  {
   "cell_type": "code",
   "execution_count": 2,
   "metadata": {
    "pycharm": {
     "name": "#%% simple test\n"
    }
   },
   "outputs": [
    {
     "name": "stdout",
     "output_type": "stream",
     "text": [
      "18\n",
      "Видеокарта INNO3D GeForce GT 710 Silent LP [N710-1SDV-D3BX] | 2 799 ₽\n",
      "Видеокарта MSI GeForce GT 710 Silent LP [GT 710 1GD3H LP] | 2 850 ₽\n",
      "Видеокарта KFA2 GeForce GT 710 PASSIVE [71GGF4DC00WK] | 2 999 ₽\n",
      "Видеокарта ASUS GeForce GT 710 Silent LP [GT710-SL-1GD5] | 3 050 ₽\n",
      "Видеокарта GIGABYTE GeForce 210 [GV-N210D3-1GI] | 3 050 ₽\n",
      "Видеокарта ASUS GeForce GT 710 Silent LP [GT710-SL-1GD5-BRK] | 3 099 ₽\n",
      "Видеокарта INNO3D GeForce GT 710 Silent LP [N710-1SDV-E3BX] | 3 099 ₽\n",
      "Видеокарта GIGABYTE GeForce GT 710 [GV-N710D5-1GL Rev2.0] | 3 250 ₽\n",
      "Видеокарта KFA2 GeForce GT 710 71GPF4HI00GK | 3 299 ₽\n",
      "Видеокарта MSI GeForce GT 710 Silent LP [GT 710 2GD3H LP] | 3 299 ₽\n",
      "Видеокарта ZOTAC GeForce GT 710 Zone Edition [ZT-71301-20L] | 3 299 ₽\n",
      "Видеокарта Palit GeForce GT 710 Silent LP [NEAT7100HD46-2080H] | 3 399 ₽\n",
      "Видеокарта ASUS GeForce GT 710 Silent LP [GT710-SL-2GD5] | 3 499 ₽\n",
      "Видеокарта MSI GeForce GT 710 Silent LP (BULK) [GT 710 1GD3H LP] | 3 499 ₽\n",
      "Видеокарта ZOTAC GeForce GT 710 Zone Edition [ZT-71302-20L] | 3 499 ₽\n",
      "Видеокарта ASUS GeForce GT 710 Silent LP [GT710-SL-2GD5-BRK] | 3 699 ₽\n",
      "Видеокарта GIGABYTE GeForce GT 710 LP [GV-N710D5-2GL] | 3 699 ₽\n",
      "Видеокарта GIGABYTE GeForce GT 710 Silent LP [GV-N710D5SL-2GL] | 3 699 ₽\n"
     ]
    }
   ],
   "source": [
    "from selenium import webdriver\n",
    "from PageParser import PageParser\n",
    "from CardListParser import card_list_parsing\n",
    "\n",
    "parser = PageParser('/home/insonusk/Documents/chromedriver_linux64/chromedriver')\n",
    "\n",
    "parser.parse(\"https://www.dns-shop.ru/catalog/17a89aab16404e77/videokarty/?p=1\",\n",
    "             card_list_parsing)"
   ]
  },
  {
   "cell_type": "code",
   "execution_count": 3,
   "metadata": {
    "pycharm": {
     "name": "#%% Try get last page\n"
    }
   },
   "outputs": [
    {
     "name": "stdout",
     "output_type": "stream",
     "text": [
      "15\n"
     ]
    }
   ],
   "source": [
    "from selenium import webdriver\n",
    "\n",
    "driver = webdriver.Chrome(executable_path='/home/insonusk/Documents/chromedriver_linux64/chromedriver')\n",
    "driver.get(\"https://www.dns-shop.ru/catalog/17a89aab16404e77/videokarty/?p=1\")\n",
    "\n",
    "result = driver.find_element_by_class_name(\"pagination-widget__page-link_last\")\n",
    "\n",
    "last_page = result.find_element_by_xpath('..').get_attribute(\"data-page-number\")\n",
    "\n",
    "print(last_page)\n",
    "\n",
    "driver.quit()"
   ]
  },
  {
   "cell_type": "code",
   "execution_count": null,
   "metadata": {
    "pycharm": {
     "name": "#%% test priceParser\n"
    }
   },
   "outputs": [],
   "source": [
    "from PriceParser import PriceParser\n",
    "PriceParser(\"123 321 ₽\")"
   ]
  },
  {
   "cell_type": "code",
   "execution_count": null,
   "metadata": {
    "pycharm": {
     "name": "#%% test get several pages\n"
    }
   },
   "outputs": [],
   "source": [
    "from selenium import webdriver\n",
    "driver = webdriver.Chrome(executable_path='/home/insonusk/Documents/chromedriver_linux64/chromedriver')\n",
    "driver.get(\"https://www.dns-shop.ru/catalog/17a89aab16404e77/videokarty/?p=1\")\n",
    "driver.get(\"https://www.dns-shop.ru/catalog/17a89aab16404e77/videokarty/?p=2\")"
   ]
  },
  {
   "cell_type": "code",
   "execution_count": 1,
   "metadata": {
    "pycharm": {
     "name": "#%% load\n"
    }
   },
   "outputs": [
    {
     "name": "stdout",
     "output_type": "stream",
     "text": [
      "Total cards: 252 on 14 pages\n",
      "- Page 1\n",
      "-- get links from url https://www.dns-shop.ru/catalog/17a89aab16404e77/videokarty/?p=1\n",
      "-- found 18 links\n",
      "-- link: https://www.dns-shop.ru/product/fba07f276a913330/videokarta-inno3d-geforce-gt-710-silent-lp-n710-1sdv-d3bx/\n",
      "--- Grab url https://www.dns-shop.ru/product/fba07f276a913330/videokarta-inno3d-geforce-gt-710-silent-lp-n710-1sdv-d3bx/characteristics/\n",
      "-- link: https://www.dns-shop.ru/product/4e2d2341ce283330/videokarta-msi-geforce-gt-710-silent-lp-gt-710-1gd3h-lp/\n",
      "--- Grab url https://www.dns-shop.ru/product/4e2d2341ce283330/videokarta-msi-geforce-gt-710-silent-lp-gt-710-1gd3h-lp/characteristics/\n",
      "-- link: https://www.dns-shop.ru/product/5207c7a6970c1b80/videokarta-kfa2-geforce-gt-710-passive-71ggf4dc00wk/\n",
      "--- Grab url https://www.dns-shop.ru/product/5207c7a6970c1b80/videokarta-kfa2-geforce-gt-710-passive-71ggf4dc00wk/characteristics/\n",
      "-- link: https://www.dns-shop.ru/product/c999cd51d8a53330/videokarta-asus-geforce-gt-710-silent-lp-gt710-sl-1gd5/\n",
      "--- Grab url https://www.dns-shop.ru/product/c999cd51d8a53330/videokarta-asus-geforce-gt-710-silent-lp-gt710-sl-1gd5/characteristics/\n",
      "-- link: https://www.dns-shop.ru/product/012ae7229c9a30b0/videokarta-gigabyte-geforce-210-gv-n210d3-1gi/\n",
      "--- Grab url https://www.dns-shop.ru/product/012ae7229c9a30b0/videokarta-gigabyte-geforce-210-gv-n210d3-1gi/characteristics/\n",
      "-- link: https://www.dns-shop.ru/product/32494346c3653330/videokarta-asus-geforce-gt-710-silent-lp-gt710-sl-1gd5-brk/\n",
      "--- Grab url https://www.dns-shop.ru/product/32494346c3653330/videokarta-asus-geforce-gt-710-silent-lp-gt710-sl-1gd5-brk/characteristics/\n",
      "-- link: https://www.dns-shop.ru/product/3bfb3d23637c8a5a/videokarta-inno3d-geforce-gt-710-silent-lp-n710-1sdv-e3bx/\n",
      "--- Grab url https://www.dns-shop.ru/product/3bfb3d23637c8a5a/videokarta-inno3d-geforce-gt-710-silent-lp-n710-1sdv-e3bx/characteristics/\n",
      "-- link: https://www.dns-shop.ru/product/c16b4f645f953332/videokarta-gigabyte--geforce-gt-710-gv-n710d5-1gl-rev20/\n",
      "--- Grab url https://www.dns-shop.ru/product/c16b4f645f953332/videokarta-gigabyte--geforce-gt-710-gv-n710d5-1gl-rev20/characteristics/\n",
      "-- link: https://www.dns-shop.ru/product/975c271ba7781b80/videokarta-kfa2-geforce-gt-710-71gpf4hi00gk/\n",
      "--- Grab url https://www.dns-shop.ru/product/975c271ba7781b80/videokarta-kfa2-geforce-gt-710-71gpf4hi00gk/characteristics/\n",
      "-- link: https://www.dns-shop.ru/product/4e2d2342ce283330/videokarta-msi-geforce-gt-710-silent-lp-gt-710-2gd3h-lp/\n",
      "--- Grab url https://www.dns-shop.ru/product/4e2d2342ce283330/videokarta-msi-geforce-gt-710-silent-lp-gt-710-2gd3h-lp/characteristics/\n",
      "-- link: https://www.dns-shop.ru/product/52f00d4d01031b80/videokarta-zotac-geforce-gt-710-zone-edition-zt-71301-20l/\n",
      "--- Grab url https://www.dns-shop.ru/product/52f00d4d01031b80/videokarta-zotac-geforce-gt-710-zone-edition-zt-71301-20l/characteristics/\n",
      "-- link: https://www.dns-shop.ru/product/9fb53308083d3330/videokarta-palit-geforce-gt-710-silent-lp-neat7100hd46-2080h/\n",
      "--- Grab url https://www.dns-shop.ru/product/9fb53308083d3330/videokarta-palit-geforce-gt-710-silent-lp-neat7100hd46-2080h/characteristics/\n",
      "-- link: https://www.dns-shop.ru/product/3cff579bc8213330/videokarta-asus-geforce-gt-710-silent-lp-gt710-sl-2gd5/\n",
      "--- Grab url https://www.dns-shop.ru/product/3cff579bc8213330/videokarta-asus-geforce-gt-710-silent-lp-gt710-sl-2gd5/characteristics/\n",
      "-- link: https://www.dns-shop.ru/product/69a2c3c21eff1b80/videokarta-msi-geforce-gt-710-silent-lp-bulk-gt-710-1gd3h-lp/\n",
      "--- Grab url https://www.dns-shop.ru/product/69a2c3c21eff1b80/videokarta-msi-geforce-gt-710-silent-lp-bulk-gt-710-1gd3h-lp/characteristics/\n",
      "-- link: https://www.dns-shop.ru/product/cb689d3201031b80/videokarta-zotac-geforce-gt-710-zone-edition-zt-71302-20l/\n",
      "--- Grab url https://www.dns-shop.ru/product/cb689d3201031b80/videokarta-zotac-geforce-gt-710-zone-edition-zt-71302-20l/characteristics/\n",
      "-- link: https://www.dns-shop.ru/product/773265d1e3a43330/videokarta-asus-geforce-gt-710-silent-lp-gt710-sl-2gd5-brk/\n",
      "--- Grab url https://www.dns-shop.ru/product/773265d1e3a43330/videokarta-asus-geforce-gt-710-silent-lp-gt710-sl-2gd5-brk/characteristics/\n",
      "-- link: https://www.dns-shop.ru/product/d03b607639273330/videokarta-gigabyte-geforce-gt-710-lp-gv-n710d5-2gl/\n",
      "--- Grab url https://www.dns-shop.ru/product/d03b607639273330/videokarta-gigabyte-geforce-gt-710-lp-gv-n710d5-2gl/characteristics/\n",
      "-- link: https://www.dns-shop.ru/product/70b6f17fc3653330/videokarta-gigabyte-geforce-gt-710-silent-lp-gv-n710d5sl-2gl/\n",
      "--- Grab url https://www.dns-shop.ru/product/70b6f17fc3653330/videokarta-gigabyte-geforce-gt-710-silent-lp-gv-n710d5sl-2gl/characteristics/\n",
      "- Page 1\n",
      "-- get links from url https://www.dns-shop.ru/catalog/17a89aab16404e77/videokarty/?p=1\n",
      "-- found 18 links\n",
      "-- link: https://www.dns-shop.ru/product/fba07f276a913330/videokarta-inno3d-geforce-gt-710-silent-lp-n710-1sdv-d3bx/\n",
      "--- Grab url https://www.dns-shop.ru/product/fba07f276a913330/videokarta-inno3d-geforce-gt-710-silent-lp-n710-1sdv-d3bx/characteristics/\n",
      "-- link: https://www.dns-shop.ru/product/4e2d2341ce283330/videokarta-msi-geforce-gt-710-silent-lp-gt-710-1gd3h-lp/\n",
      "--- Grab url https://www.dns-shop.ru/product/4e2d2341ce283330/videokarta-msi-geforce-gt-710-silent-lp-gt-710-1gd3h-lp/characteristics/\n",
      "-- link: https://www.dns-shop.ru/product/5207c7a6970c1b80/videokarta-kfa2-geforce-gt-710-passive-71ggf4dc00wk/\n",
      "--- Grab url https://www.dns-shop.ru/product/5207c7a6970c1b80/videokarta-kfa2-geforce-gt-710-passive-71ggf4dc00wk/characteristics/\n",
      "-- link: https://www.dns-shop.ru/product/c999cd51d8a53330/videokarta-asus-geforce-gt-710-silent-lp-gt710-sl-1gd5/\n",
      "--- Grab url https://www.dns-shop.ru/product/c999cd51d8a53330/videokarta-asus-geforce-gt-710-silent-lp-gt710-sl-1gd5/characteristics/\n",
      "-- link: https://www.dns-shop.ru/product/012ae7229c9a30b0/videokarta-gigabyte-geforce-210-gv-n210d3-1gi/\n",
      "--- Grab url https://www.dns-shop.ru/product/012ae7229c9a30b0/videokarta-gigabyte-geforce-210-gv-n210d3-1gi/characteristics/\n",
      "-- link: https://www.dns-shop.ru/product/32494346c3653330/videokarta-asus-geforce-gt-710-silent-lp-gt710-sl-1gd5-brk/\n",
      "--- Grab url https://www.dns-shop.ru/product/32494346c3653330/videokarta-asus-geforce-gt-710-silent-lp-gt710-sl-1gd5-brk/characteristics/\n",
      "-- link: https://www.dns-shop.ru/product/3bfb3d23637c8a5a/videokarta-inno3d-geforce-gt-710-silent-lp-n710-1sdv-e3bx/\n",
      "--- Grab url https://www.dns-shop.ru/product/3bfb3d23637c8a5a/videokarta-inno3d-geforce-gt-710-silent-lp-n710-1sdv-e3bx/characteristics/\n",
      "-- link: https://www.dns-shop.ru/product/c16b4f645f953332/videokarta-gigabyte--geforce-gt-710-gv-n710d5-1gl-rev20/\n",
      "--- Grab url https://www.dns-shop.ru/product/c16b4f645f953332/videokarta-gigabyte--geforce-gt-710-gv-n710d5-1gl-rev20/characteristics/\n",
      "-- link: https://www.dns-shop.ru/product/975c271ba7781b80/videokarta-kfa2-geforce-gt-710-71gpf4hi00gk/\n",
      "--- Grab url https://www.dns-shop.ru/product/975c271ba7781b80/videokarta-kfa2-geforce-gt-710-71gpf4hi00gk/characteristics/\n",
      "-- link: https://www.dns-shop.ru/product/4e2d2342ce283330/videokarta-msi-geforce-gt-710-silent-lp-gt-710-2gd3h-lp/\n",
      "--- Grab url https://www.dns-shop.ru/product/4e2d2342ce283330/videokarta-msi-geforce-gt-710-silent-lp-gt-710-2gd3h-lp/characteristics/\n",
      "-- link: https://www.dns-shop.ru/product/52f00d4d01031b80/videokarta-zotac-geforce-gt-710-zone-edition-zt-71301-20l/\n",
      "--- Grab url https://www.dns-shop.ru/product/52f00d4d01031b80/videokarta-zotac-geforce-gt-710-zone-edition-zt-71301-20l/characteristics/\n",
      "-- link: https://www.dns-shop.ru/product/9fb53308083d3330/videokarta-palit-geforce-gt-710-silent-lp-neat7100hd46-2080h/\n",
      "--- Grab url https://www.dns-shop.ru/product/9fb53308083d3330/videokarta-palit-geforce-gt-710-silent-lp-neat7100hd46-2080h/characteristics/\n",
      "-- link: https://www.dns-shop.ru/product/3cff579bc8213330/videokarta-asus-geforce-gt-710-silent-lp-gt710-sl-2gd5/\n",
      "--- Grab url https://www.dns-shop.ru/product/3cff579bc8213330/videokarta-asus-geforce-gt-710-silent-lp-gt710-sl-2gd5/characteristics/\n",
      "-- link: https://www.dns-shop.ru/product/69a2c3c21eff1b80/videokarta-msi-geforce-gt-710-silent-lp-bulk-gt-710-1gd3h-lp/\n",
      "--- Grab url https://www.dns-shop.ru/product/69a2c3c21eff1b80/videokarta-msi-geforce-gt-710-silent-lp-bulk-gt-710-1gd3h-lp/characteristics/\n"
     ]
    },
    {
     "name": "stdout",
     "output_type": "stream",
     "text": [
      "-- link: https://www.dns-shop.ru/product/cb689d3201031b80/videokarta-zotac-geforce-gt-710-zone-edition-zt-71302-20l/\n",
      "--- Grab url https://www.dns-shop.ru/product/cb689d3201031b80/videokarta-zotac-geforce-gt-710-zone-edition-zt-71302-20l/characteristics/\n",
      "-- link: https://www.dns-shop.ru/product/773265d1e3a43330/videokarta-asus-geforce-gt-710-silent-lp-gt710-sl-2gd5-brk/\n",
      "--- Grab url https://www.dns-shop.ru/product/773265d1e3a43330/videokarta-asus-geforce-gt-710-silent-lp-gt710-sl-2gd5-brk/characteristics/\n",
      "-- link: https://www.dns-shop.ru/product/d03b607639273330/videokarta-gigabyte-geforce-gt-710-lp-gv-n710d5-2gl/\n",
      "--- Grab url https://www.dns-shop.ru/product/d03b607639273330/videokarta-gigabyte-geforce-gt-710-lp-gv-n710d5-2gl/characteristics/\n",
      "-- link: https://www.dns-shop.ru/product/70b6f17fc3653330/videokarta-gigabyte-geforce-gt-710-silent-lp-gv-n710d5sl-2gl/\n",
      "--- Grab url https://www.dns-shop.ru/product/70b6f17fc3653330/videokarta-gigabyte-geforce-gt-710-silent-lp-gv-n710d5sl-2gl/characteristics/\n",
      "- Page 1\n",
      "-- get links from url https://www.dns-shop.ru/catalog/17a89aab16404e77/videokarty/?p=1\n",
      "-- found 18 links\n",
      "-- link: https://www.dns-shop.ru/product/fba07f276a913330/videokarta-inno3d-geforce-gt-710-silent-lp-n710-1sdv-d3bx/\n",
      "--- Grab url https://www.dns-shop.ru/product/fba07f276a913330/videokarta-inno3d-geforce-gt-710-silent-lp-n710-1sdv-d3bx/characteristics/\n",
      "-- link: https://www.dns-shop.ru/product/4e2d2341ce283330/videokarta-msi-geforce-gt-710-silent-lp-gt-710-1gd3h-lp/\n",
      "--- Grab url https://www.dns-shop.ru/product/4e2d2341ce283330/videokarta-msi-geforce-gt-710-silent-lp-gt-710-1gd3h-lp/characteristics/\n"
     ]
    },
    {
     "ename": "NameError",
     "evalue": "name 'Error' is not defined",
     "output_type": "error",
     "traceback": [
      "\u001b[0;31m---------------------------------------------------------------------------\u001b[0m",
      "\u001b[0;31mNameError\u001b[0m                                 Traceback (most recent call last)",
      "\u001b[0;32m<ipython-input-1-eebfceaa1091>\u001b[0m in \u001b[0;36m<module>\u001b[0;34m\u001b[0m\n\u001b[1;32m      1\u001b[0m \u001b[0;32mfrom\u001b[0m \u001b[0msrc\u001b[0m\u001b[0;34m.\u001b[0m\u001b[0mmain\u001b[0m\u001b[0;34m.\u001b[0m\u001b[0mCardInfoGrabber\u001b[0m \u001b[0;32mimport\u001b[0m \u001b[0mGrabCardsFromDns\u001b[0m\u001b[0;34m\u001b[0m\u001b[0;34m\u001b[0m\u001b[0m\n\u001b[1;32m      2\u001b[0m \u001b[0;34m\u001b[0m\u001b[0m\n\u001b[0;32m----> 3\u001b[0;31m \u001b[0mGrabCardsFromDns\u001b[0m\u001b[0;34m(\u001b[0m\u001b[0;34m)\u001b[0m\u001b[0;34m\u001b[0m\u001b[0;34m\u001b[0m\u001b[0m\n\u001b[0m",
      "\u001b[0;32m~/Desktop/Drives/MyPrograms/MyProgramm/MyProjects/DnsParser/src/main/CardInfoGrabber.py\u001b[0m in \u001b[0;36mGrabCardsFromDns\u001b[0;34m()\u001b[0m\n\u001b[1;32m     12\u001b[0m     \u001b[0mcsv_e\u001b[0m \u001b[0;34m=\u001b[0m \u001b[0mCsvEditor\u001b[0m\u001b[0;34m(\u001b[0m\u001b[0;34mf'Dns-{datetime.now()}'\u001b[0m\u001b[0;34m)\u001b[0m\u001b[0;34m\u001b[0m\u001b[0;34m\u001b[0m\u001b[0m\n\u001b[1;32m     13\u001b[0m     \u001b[0mcatalag_g\u001b[0m \u001b[0;34m=\u001b[0m \u001b[0mCardCatalogGrabber\u001b[0m\u001b[0;34m(\u001b[0m\u001b[0mcsv_e\u001b[0m\u001b[0;34m,\u001b[0m \u001b[0mdriver_f\u001b[0m\u001b[0;34m)\u001b[0m\u001b[0;34m\u001b[0m\u001b[0;34m\u001b[0m\u001b[0m\n\u001b[0;32m---> 14\u001b[0;31m     \u001b[0mcatalag_g\u001b[0m\u001b[0;34m.\u001b[0m\u001b[0mgrab_url\u001b[0m\u001b[0;34m(\u001b[0m\u001b[0murl\u001b[0m\u001b[0;34m)\u001b[0m\u001b[0;34m\u001b[0m\u001b[0;34m\u001b[0m\u001b[0m\n\u001b[0m",
      "\u001b[0;32m~/Desktop/Drives/MyPrograms/MyProgramm/MyProjects/DnsParser/src/main/tool/data_grabber/CardCatalogGrabber.py\u001b[0m in \u001b[0;36mgrab_url\u001b[0;34m(self, url)\u001b[0m\n\u001b[1;32m     21\u001b[0m             \u001b[0mprint\u001b[0m\u001b[0;34m(\u001b[0m\u001b[0;34mf'- Page {cur_list}'\u001b[0m\u001b[0;34m)\u001b[0m\u001b[0;34m\u001b[0m\u001b[0;34m\u001b[0m\u001b[0m\n\u001b[1;32m     22\u001b[0m             \u001b[0mcur_url\u001b[0m \u001b[0;34m=\u001b[0m \u001b[0;34mf'{url}?p={cur_list}'\u001b[0m\u001b[0;34m\u001b[0m\u001b[0;34m\u001b[0m\u001b[0m\n\u001b[0;32m---> 23\u001b[0;31m             \u001b[0mlist_g\u001b[0m\u001b[0;34m.\u001b[0m\u001b[0mgrab_url\u001b[0m\u001b[0;34m(\u001b[0m\u001b[0mcur_url\u001b[0m\u001b[0;34m)\u001b[0m\u001b[0;34m\u001b[0m\u001b[0;34m\u001b[0m\u001b[0m\n\u001b[0m",
      "\u001b[0;32m~/Desktop/Drives/MyPrograms/MyProgramm/MyProjects/DnsParser/src/main/tool/data_grabber/CardListGrabber.py\u001b[0m in \u001b[0;36mgrab_url\u001b[0;34m(self, url)\u001b[0m\n\u001b[1;32m     21\u001b[0m             \u001b[0mprint\u001b[0m\u001b[0;34m(\u001b[0m\u001b[0;34mf'-- link: {link}'\u001b[0m\u001b[0;34m)\u001b[0m\u001b[0;34m\u001b[0m\u001b[0;34m\u001b[0m\u001b[0m\n\u001b[1;32m     22\u001b[0m             \u001b[0;32mif\u001b[0m \u001b[0;32mnot\u001b[0m \u001b[0mself\u001b[0m\u001b[0;34m.\u001b[0m\u001b[0mcsvEditor\u001b[0m\u001b[0;34m.\u001b[0m\u001b[0mfind_url_in_file\u001b[0m\u001b[0;34m(\u001b[0m\u001b[0murl\u001b[0m\u001b[0;34m)\u001b[0m\u001b[0;34m:\u001b[0m\u001b[0;34m\u001b[0m\u001b[0;34m\u001b[0m\u001b[0m\n\u001b[0;32m---> 23\u001b[0;31m                 \u001b[0mcard_info\u001b[0m \u001b[0;34m=\u001b[0m \u001b[0mcard_info_grabber\u001b[0m\u001b[0;34m.\u001b[0m\u001b[0mget_from_url\u001b[0m\u001b[0;34m(\u001b[0m\u001b[0mlink\u001b[0m\u001b[0;34m)\u001b[0m\u001b[0;34m\u001b[0m\u001b[0;34m\u001b[0m\u001b[0m\n\u001b[0m\u001b[1;32m     24\u001b[0m                 \u001b[0mcard_info_arr\u001b[0m\u001b[0;34m.\u001b[0m\u001b[0mappend\u001b[0m\u001b[0;34m(\u001b[0m\u001b[0mcard_info\u001b[0m\u001b[0;34m)\u001b[0m\u001b[0;34m\u001b[0m\u001b[0;34m\u001b[0m\u001b[0m\n\u001b[1;32m     25\u001b[0m         \u001b[0;32mif\u001b[0m \u001b[0mlen\u001b[0m\u001b[0;34m(\u001b[0m\u001b[0mcard_info_arr\u001b[0m\u001b[0;34m)\u001b[0m \u001b[0;34m>\u001b[0m \u001b[0;36m0\u001b[0m\u001b[0;34m:\u001b[0m\u001b[0;34m\u001b[0m\u001b[0;34m\u001b[0m\u001b[0m\n",
      "\u001b[0;32m~/Desktop/Drives/MyPrograms/MyProgramm/MyProjects/DnsParser/src/main/tool/data_grabber/CardInfoGrabber.py\u001b[0m in \u001b[0;36mget_from_url\u001b[0;34m(self, url)\u001b[0m\n\u001b[1;32m     18\u001b[0m         \u001b[0mprint\u001b[0m\u001b[0;34m(\u001b[0m\u001b[0;34mf'--- Grab url {parUrl}'\u001b[0m\u001b[0;34m)\u001b[0m\u001b[0;34m\u001b[0m\u001b[0;34m\u001b[0m\u001b[0m\n\u001b[1;32m     19\u001b[0m         \u001b[0mdriver\u001b[0m \u001b[0;34m=\u001b[0m \u001b[0mself\u001b[0m\u001b[0;34m.\u001b[0m\u001b[0mdriver_factory\u001b[0m\u001b[0;34m.\u001b[0m\u001b[0mgetDriver\u001b[0m\u001b[0;34m(\u001b[0m\u001b[0mparUrl\u001b[0m\u001b[0;34m)\u001b[0m\u001b[0;34m\u001b[0m\u001b[0;34m\u001b[0m\u001b[0m\n\u001b[0;32m---> 20\u001b[0;31m         \u001b[0mself\u001b[0m\u001b[0;34m.\u001b[0m\u001b[0m__grab_from_driver__\u001b[0m\u001b[0;34m(\u001b[0m\u001b[0mdriver\u001b[0m\u001b[0;34m,\u001b[0m \u001b[0mcard_info\u001b[0m\u001b[0;34m)\u001b[0m\u001b[0;34m\u001b[0m\u001b[0;34m\u001b[0m\u001b[0m\n\u001b[0m\u001b[1;32m     21\u001b[0m         \u001b[0mdriver\u001b[0m\u001b[0;34m.\u001b[0m\u001b[0mquit\u001b[0m\u001b[0;34m(\u001b[0m\u001b[0;34m)\u001b[0m\u001b[0;34m\u001b[0m\u001b[0;34m\u001b[0m\u001b[0m\n\u001b[1;32m     22\u001b[0m \u001b[0;34m\u001b[0m\u001b[0m\n",
      "\u001b[0;32m~/Desktop/Drives/MyPrograms/MyProgramm/MyProjects/DnsParser/src/main/tool/data_grabber/CardInfoGrabber.py\u001b[0m in \u001b[0;36m__grab_from_driver__\u001b[0;34m(self, driver, card_info)\u001b[0m\n\u001b[1;32m     30\u001b[0m \u001b[0;34m\u001b[0m\u001b[0m\n\u001b[1;32m     31\u001b[0m         \u001b[0;32mtry\u001b[0m\u001b[0;34m:\u001b[0m\u001b[0;34m\u001b[0m\u001b[0;34m\u001b[0m\u001b[0m\n\u001b[0;32m---> 32\u001b[0;31m             \u001b[0mcard_info\u001b[0m\u001b[0;34m.\u001b[0m\u001b[0mprice\u001b[0m \u001b[0;34m=\u001b[0m \u001b[0mPriceParser\u001b[0m\u001b[0;34m(\u001b[0m\u001b[0mCSS_Search_Element\u001b[0m\u001b[0;34m(\u001b[0m\u001b[0mdriver\u001b[0m\u001b[0;34m,\u001b[0m \u001b[0;34m\".product-card-price__current\"\u001b[0m\u001b[0;34m)\u001b[0m\u001b[0;34m.\u001b[0m\u001b[0mtext\u001b[0m\u001b[0;34m)\u001b[0m\u001b[0;34m\u001b[0m\u001b[0;34m\u001b[0m\u001b[0m\n\u001b[0m\u001b[1;32m     33\u001b[0m         \u001b[0;32mexcept\u001b[0m \u001b[0mTimeoutException\u001b[0m \u001b[0;32mas\u001b[0m \u001b[0me\u001b[0m\u001b[0;34m:\u001b[0m\u001b[0;34m\u001b[0m\u001b[0;34m\u001b[0m\u001b[0m\n\u001b[1;32m     34\u001b[0m             \u001b[0mprint\u001b[0m\u001b[0;34m(\u001b[0m\u001b[0me\u001b[0m\u001b[0;34m)\u001b[0m\u001b[0;34m\u001b[0m\u001b[0;34m\u001b[0m\u001b[0m\n",
      "\u001b[0;32m~/Desktop/Drives/MyPrograms/MyProgramm/MyProjects/DnsParser/src/main/tool/parser/PriceParser.py\u001b[0m in \u001b[0;36mPriceParser\u001b[0;34m(price)\u001b[0m\n\u001b[1;32m      4\u001b[0m         \u001b[0;32mif\u001b[0m \u001b[0;32mnot\u001b[0m \u001b[0mpriceCond\u001b[0m\u001b[0;34m[\u001b[0m\u001b[0mi\u001b[0m\u001b[0;34m]\u001b[0m\u001b[0;34m.\u001b[0m\u001b[0misnumeric\u001b[0m\u001b[0;34m(\u001b[0m\u001b[0;34m)\u001b[0m\u001b[0;34m:\u001b[0m\u001b[0;34m\u001b[0m\u001b[0;34m\u001b[0m\u001b[0m\n\u001b[1;32m      5\u001b[0m             \u001b[0;32mreturn\u001b[0m \u001b[0;34m(\u001b[0m\u001b[0mint\u001b[0m\u001b[0;34m(\u001b[0m\u001b[0mpriceCond\u001b[0m\u001b[0;34m[\u001b[0m\u001b[0;34m:\u001b[0m\u001b[0mi\u001b[0m\u001b[0;34m]\u001b[0m\u001b[0;34m)\u001b[0m\u001b[0;34m,\u001b[0m \u001b[0mpriceCond\u001b[0m\u001b[0;34m[\u001b[0m\u001b[0mi\u001b[0m\u001b[0;34m:\u001b[0m\u001b[0;34m]\u001b[0m\u001b[0;34m)\u001b[0m\u001b[0;34m\u001b[0m\u001b[0;34m\u001b[0m\u001b[0m\n\u001b[0;32m----> 6\u001b[0;31m     \u001b[0;32mraise\u001b[0m \u001b[0mError\u001b[0m\u001b[0;34m(\u001b[0m\u001b[0;34mf'wrong price : {price}'\u001b[0m\u001b[0;34m)\u001b[0m\u001b[0;34m\u001b[0m\u001b[0;34m\u001b[0m\u001b[0m\n\u001b[0m\u001b[1;32m      7\u001b[0m \u001b[0;34m\u001b[0m\u001b[0m\n\u001b[1;32m      8\u001b[0m \u001b[0;34m\u001b[0m\u001b[0m\n",
      "\u001b[0;31mNameError\u001b[0m: name 'Error' is not defined"
     ]
    }
   ],
   "source": [
    "from src.main.CardInfoGrabber import GrabCardsFromDns\n",
    "\n",
    "GrabCardsFromDns()\n"
   ]
  },
  {
   "cell_type": "code",
   "execution_count": 2,
   "metadata": {},
   "outputs": [
    {
     "name": "stdout",
     "output_type": "stream",
     "text": [
      "atr=4\n",
      "4\n"
     ]
    }
   ],
   "source": [
    "class MyClass(object):\n",
    "    def __init__(self):\n",
    "        self.attribute = 4\n",
    "        print(f'atr={self.attribute}')\n",
    "\n",
    "    def my_method(self):\n",
    "        def my_fun():\n",
    "            self.attribute = 7\n",
    "            print(f'atr={self.attribute}')\n",
    "cls = MyClass()\n",
    "cls.my_method()\n",
    "print(cls.attribute)"
   ]
  },
  {
   "cell_type": "code",
   "execution_count": null,
   "metadata": {},
   "outputs": [],
   "source": []
  }
 ],
 "metadata": {
  "kernelspec": {
   "display_name": "PyCharm (DnsParser)",
   "language": "python",
   "name": "pycharm-46779b7d"
  },
  "language_info": {
   "codemirror_mode": {
    "name": "ipython",
    "version": 3
   },
   "file_extension": ".py",
   "mimetype": "text/x-python",
   "name": "python",
   "nbconvert_exporter": "python",
   "pygments_lexer": "ipython3",
   "version": "3.8.5"
  }
 },
 "nbformat": 4,
 "nbformat_minor": 1
}
