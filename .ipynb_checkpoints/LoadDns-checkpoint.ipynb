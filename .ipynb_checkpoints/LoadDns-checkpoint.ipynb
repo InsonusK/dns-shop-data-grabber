{
 "cells": [
  {
   "cell_type": "code",
   "execution_count": 31,
   "metadata": {
    "collapsed": true,
    "pycharm": {
     "name": "#%% simple test\n"
    }
   },
   "outputs": [
    {
     "name": "stdout",
     "output_type": "stream",
     "text": [
      "18\n",
      "Видеокарта INNO3D GeForce GT 710 Silent LP [N710-1SDV-D3BX] | 2 799 ₽\n",
      "Видеокарта MSI GeForce GT 710 Silent LP [GT 710 1GD3H LP] | 2 850 ₽\n",
      "Видеокарта KFA2 GeForce GT 710 PASSIVE [71GGF4DC00WK] | 2 999 ₽\n",
      "Видеокарта ASUS GeForce GT 710 Silent LP [GT710-SL-1GD5] | 3 050 ₽\n",
      "Видеокарта GIGABYTE GeForce 210 [GV-N210D3-1GI] | 3 050 ₽\n",
      "Видеокарта ASUS GeForce GT 710 Silent LP [GT710-SL-1GD5-BRK] | 3 099 ₽\n",
      "Видеокарта INNO3D GeForce GT 710 Silent LP [N710-1SDV-E3BX] | 3 099 ₽\n",
      "Видеокарта GIGABYTE GeForce GT 710 [GV-N710D5-1GL Rev2.0] | 3 250 ₽\n",
      "Видеокарта KFA2 GeForce GT 710 71GPF4HI00GK | 3 299 ₽\n",
      "Видеокарта MSI GeForce GT 710 Silent LP [GT 710 2GD3H LP] | 3 299 ₽\n",
      "Видеокарта ZOTAC GeForce GT 710 Zone Edition [ZT-71301-20L] | 3 299 ₽\n",
      "Видеокарта Palit GeForce GT 710 Silent LP [NEAT7100HD46-2080H] | 3 399 ₽\n",
      "Видеокарта ASUS GeForce GT 710 Silent LP [GT710-SL-2GD5] | 3 499 ₽\n",
      "Видеокарта MSI GeForce GT 710 Silent LP (BULK) [GT 710 1GD3H LP] | 3 499 ₽\n",
      "Видеокарта ZOTAC GeForce GT 710 Zone Edition [ZT-71302-20L] | 3 499 ₽\n",
      "Видеокарта ASUS GeForce GT 710 Silent LP [GT710-SL-2GD5-BRK] | 3 699 ₽\n",
      "Видеокарта GIGABYTE GeForce GT 710 LP [GV-N710D5-2GL] | 3 699 ₽\n",
      "Видеокарта GIGABYTE GeForce GT 710 Silent LP [GV-N710D5SL-2GL] | 3 699 ₽\n"
     ]
    }
   ],
   "source": [
    "from selenium import webdriver\n",
    "\n",
    "driver = webdriver.Chrome(executable_path='/home/insonusk/Documents/chromedriver_linux64/chromedriver')\n",
    "driver.get(\"https://www.dns-shop.ru/catalog/17a89aab16404e77/videokarty/?p=1\")\n",
    "\n",
    "results = driver.find_elements_by_xpath('//div[@class=\"catalog-item\"]')\n",
    "\n",
    "print(len(results))\n",
    "\n",
    "for result in results:\n",
    "    name_block = result.find_element_by_class_name(\"product-info__title\")\n",
    "    sub_name_block = name_block.find_element_by_class_name(\"product-info__title-link\")\n",
    "\n",
    "    price = result.find_element_by_class_name(\"product-min-price__current\")\n",
    "    print(f'{sub_name_block.text} | {price.text}')\n",
    "driver.quit()\n"
   ]
  },
  {
   "cell_type": "code",
   "execution_count": 2,
   "metadata": {
    "pycharm": {
     "name": "#%% simple test\n"
    }
   },
   "outputs": [
    {
     "name": "stdout",
     "output_type": "stream",
     "text": [
      "18\n",
      "Видеокарта INNO3D GeForce GT 710 Silent LP [N710-1SDV-D3BX] | 2 799 ₽\n",
      "Видеокарта MSI GeForce GT 710 Silent LP [GT 710 1GD3H LP] | 2 850 ₽\n",
      "Видеокарта KFA2 GeForce GT 710 PASSIVE [71GGF4DC00WK] | 2 999 ₽\n",
      "Видеокарта ASUS GeForce GT 710 Silent LP [GT710-SL-1GD5] | 3 050 ₽\n",
      "Видеокарта GIGABYTE GeForce 210 [GV-N210D3-1GI] | 3 050 ₽\n",
      "Видеокарта ASUS GeForce GT 710 Silent LP [GT710-SL-1GD5-BRK] | 3 099 ₽\n",
      "Видеокарта INNO3D GeForce GT 710 Silent LP [N710-1SDV-E3BX] | 3 099 ₽\n",
      "Видеокарта GIGABYTE GeForce GT 710 [GV-N710D5-1GL Rev2.0] | 3 250 ₽\n",
      "Видеокарта KFA2 GeForce GT 710 71GPF4HI00GK | 3 299 ₽\n",
      "Видеокарта MSI GeForce GT 710 Silent LP [GT 710 2GD3H LP] | 3 299 ₽\n",
      "Видеокарта ZOTAC GeForce GT 710 Zone Edition [ZT-71301-20L] | 3 299 ₽\n",
      "Видеокарта Palit GeForce GT 710 Silent LP [NEAT7100HD46-2080H] | 3 399 ₽\n",
      "Видеокарта ASUS GeForce GT 710 Silent LP [GT710-SL-2GD5] | 3 499 ₽\n",
      "Видеокарта MSI GeForce GT 710 Silent LP (BULK) [GT 710 1GD3H LP] | 3 499 ₽\n",
      "Видеокарта ZOTAC GeForce GT 710 Zone Edition [ZT-71302-20L] | 3 499 ₽\n",
      "Видеокарта ASUS GeForce GT 710 Silent LP [GT710-SL-2GD5-BRK] | 3 699 ₽\n",
      "Видеокарта GIGABYTE GeForce GT 710 LP [GV-N710D5-2GL] | 3 699 ₽\n",
      "Видеокарта GIGABYTE GeForce GT 710 Silent LP [GV-N710D5SL-2GL] | 3 699 ₽\n"
     ]
    }
   ],
   "source": [
    "from selenium import webdriver\n",
    "from PageParser import PageParser\n",
    "from CardListParser import card_list_parsing\n",
    "\n",
    "parser = PageParser('/home/insonusk/Documents/chromedriver_linux64/chromedriver')\n",
    "\n",
    "parser.parse(\"https://www.dns-shop.ru/catalog/17a89aab16404e77/videokarty/?p=1\",\n",
    "             card_list_parsing)"
   ]
  },
  {
   "cell_type": "code",
   "execution_count": 3,
   "metadata": {
    "pycharm": {
     "name": "#%% Try get last page\n"
    }
   },
   "outputs": [
    {
     "name": "stdout",
     "output_type": "stream",
     "text": [
      "15\n"
     ]
    }
   ],
   "source": [
    "from selenium import webdriver\n",
    "\n",
    "driver = webdriver.Chrome(executable_path='/home/insonusk/Documents/chromedriver_linux64/chromedriver')\n",
    "driver.get(\"https://www.dns-shop.ru/catalog/17a89aab16404e77/videokarty/?p=1\")\n",
    "\n",
    "result = driver.find_element_by_class_name(\"pagination-widget__page-link_last\")\n",
    "\n",
    "last_page = result.find_element_by_xpath('..').get_attribute(\"data-page-number\")\n",
    "\n",
    "print(last_page)\n",
    "\n",
    "driver.quit()"
   ]
  },
  {
   "cell_type": "code",
   "execution_count": null,
   "metadata": {
    "pycharm": {
     "is_executing": true,
     "name": "#%% test priceParser\n"
    }
   },
   "outputs": [],
   "source": [
    "from PriceParser import PriceParser\n",
    "PriceParser(\"123 321 ₽\")"
   ]
  },
  {
   "cell_type": "code",
   "execution_count": 2,
   "metadata": {
    "pycharm": {
     "is_executing": true,
     "name": "#%% test get several pages\n"
    }
   },
   "outputs": [],
   "source": [
    "from selenium import webdriver\n",
    "driver = webdriver.Chrome(executable_path='/home/insonusk/Documents/chromedriver_linux64/chromedriver')\n",
    "driver.get(\"https://www.dns-shop.ru/catalog/17a89aab16404e77/videokarty/?p=1\")\n",
    "driver.get(\"https://www.dns-shop.ru/catalog/17a89aab16404e77/videokarty/?p=2\")\n",
    "driver.quit()"
   ]
  },
  {
   "cell_type": "code",
   "execution_count": null,
   "metadata": {},
   "outputs": [],
   "source": []
  }
 ],
 "metadata": {
  "kernelspec": {
   "display_name": "PyCharm (DnsParser)",
   "language": "python",
   "name": "pycharm-46779b7d"
  },
  "language_info": {
   "codemirror_mode": {
    "name": "ipython",
    "version": 3
   },
   "file_extension": ".py",
   "mimetype": "text/x-python",
   "name": "python",
   "nbconvert_exporter": "python",
   "pygments_lexer": "ipython3",
   "version": "3.8.5"
  }
 },
 "nbformat": 4,
 "nbformat_minor": 1
}
